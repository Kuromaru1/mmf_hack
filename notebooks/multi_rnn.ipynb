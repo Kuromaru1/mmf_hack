{
 "cells": [
  {
   "cell_type": "code",
   "execution_count": 1,
   "metadata": {
    "scrolled": true
   },
   "outputs": [
    {
     "name": "stderr",
     "output_type": "stream",
     "text": [
      "Using TensorFlow backend.\n",
      "/home/rbkn99/.local/lib/python3.6/site-packages/tensorflow/python/util/tf_inspect.py:75: DeprecationWarning:\n",
      "\n",
      "inspect.getargspec() is deprecated, use inspect.signature() or inspect.getfullargspec()\n",
      "\n"
     ]
    },
    {
     "data": {
      "text/html": [
       "<script type=\"text/javascript\">window.PlotlyConfig = {MathJaxConfig: 'local'};</script><script type=\"text/javascript\">if (window.MathJax) {MathJax.Hub.Config({SVG: {font: \"STIX-Web\"}});}</script><script>requirejs.config({paths: { 'plotly': ['https://cdn.plot.ly/plotly-latest.min']},});if(!window._Plotly) {require(['plotly'],function(plotly) {window._Plotly=plotly;});}</script>"
      ]
     },
     "metadata": {},
     "output_type": "execute_result"
    }
   ],
   "source": [
    "import pandas as pd\n",
    "import matplotlib\n",
    "import numpy as np\n",
    "import matplotlib.pyplot as plt\n",
    "from plotly.offline import download_plotlyjs, init_notebook_mode, plot, iplot\n",
    "from plotly import graph_objs as go\n",
    "from scipy.stats import pearsonr\n",
    "from statsmodels.tsa.arima_model import ARIMA\n",
    "from fbprophet import Prophet\n",
    "from sklearn.metrics import mean_squared_error\n",
    "from sklearn.model_selection import train_test_split\n",
    "from datetime import timedelta\n",
    "import keras\n",
    "from keras.models import Sequential\n",
    "from keras.layers import LSTM, Dense, Flatten, Dropout, Activation\n",
    "\n",
    "from sklearn.preprocessing import MinMaxScaler\n",
    "\n",
    "import warnings\n",
    "warnings.filterwarnings('ignore')\n",
    "\n",
    "import logging\n",
    "\n",
    "logger = logging.getLogger(__name__)\n",
    "logger.setLevel(logging.INFO)\n",
    "\n",
    "handler = logging.FileHandler('multi_nn.log')\n",
    "handler.setLevel(logging.INFO)\n",
    "logger.addHandler(handler)\n",
    "\n",
    "%matplotlib inline\n",
    "init_notebook_mode(connected = True)"
   ]
  },
  {
   "cell_type": "code",
   "execution_count": 2,
   "metadata": {},
   "outputs": [],
   "source": [
    "class PPPredictor:\n",
    "    \n",
    "    def __init__(self):\n",
    "        self.model = None\n",
    "        self.week_shift = 13\n",
    "    \n",
    "    def prepare_data(self, data, actual_date):\n",
    "        df = data.copy()\n",
    "        df.index = pd.to_datetime(df['Date'])\n",
    "        df.drop(['Date'], axis=1, inplace=True)\n",
    "        for col in df.columns:\n",
    "            df[col].interpolate(method='time', inplace=True)\n",
    "            df[col].fillna(method='bfill', inplace=True)\n",
    "            \n",
    "        df.index = pd.to_datetime(df.index)\n",
    "        return df[df.index <= pd.to_datetime(actual_date)]\n",
    "\n",
    "    def fit(self, prepared_data, use_text_model=False):\n",
    "        model = Sequential()\n",
    "\n",
    "        model.add(LSTM(\n",
    "            input_dim=7,\n",
    "            output_dim=50,\n",
    "            return_sequences=True))\n",
    "        model.add(Dropout(0.2))\n",
    "\n",
    "        model.add(LSTM(\n",
    "            100,\n",
    "            return_sequences=False))\n",
    "        model.add(Dropout(0.2))\n",
    "\n",
    "        model.add(Dense(\n",
    "            output_dim=1))\n",
    "        model.add(Activation('linear'))\n",
    "\n",
    "        model.compile(loss='mse', optimizer='rmsprop')\n",
    "        \n",
    "        df = prepared_data.drop(['PPSpotAvgPrice'], axis=1)\n",
    "        df['Date'] = pd.to_numeric(df.index)\n",
    "        \n",
    "        self.scaler = MinMaxScaler()\n",
    "        X_train = self.scaler.fit_transform(df)\n",
    "        self.X_train = X_train\n",
    "        \n",
    "        X_train = X_train[:-self.week_shift]\n",
    "\n",
    "        X_train = np.reshape(X_train, (X_train.shape[0], 1, X_train.shape[1]))\n",
    "\n",
    "        self.scaler_y = MinMaxScaler()\n",
    "        y_train = np.reshape(np.array(prepared_data['PPSpotAvgPrice']), (-1, 1))\n",
    "        y_train = self.scaler_y.fit_transform(y_train)\n",
    "        y_train = y_train[self.week_shift:, 0]\n",
    "        \n",
    "        model.fit(X_train, y_train, batch_size=128, nb_epoch=10)\n",
    "        \n",
    "        self.model = model\n",
    "        return model\n",
    "\n",
    "    \n",
    "    def predict(self, date):\n",
    "        X_test = self.X_train[-1]\n",
    "        X_test = np.reshape(X_test, (1, 1, X_test.shape[0]))\n",
    "        forecast = self.model.predict(X_test)\n",
    "        return self.scaler_y.inverse_transform(forecast)"
   ]
  },
  {
   "cell_type": "code",
   "execution_count": 3,
   "metadata": {},
   "outputs": [
    {
     "name": "stdout",
     "output_type": "stream",
     "text": [
      "Epoch 1/10\n",
      "98/98 [==============================] - 2s 23ms/step - loss: 0.3409\n",
      "Epoch 2/10\n",
      "98/98 [==============================] - 0s 73us/step - loss: 0.3139\n",
      "Epoch 3/10\n",
      "98/98 [==============================] - 0s 72us/step - loss: 0.2934\n",
      "Epoch 4/10\n",
      "98/98 [==============================] - 0s 44us/step - loss: 0.2738\n",
      "Epoch 5/10\n",
      "98/98 [==============================] - 0s 90us/step - loss: 0.2575\n",
      "Epoch 6/10\n",
      "98/98 [==============================] - 0s 90us/step - loss: 0.2419\n",
      "Epoch 7/10\n",
      "98/98 [==============================] - 0s 183us/step - loss: 0.2253\n",
      "Epoch 8/10\n",
      "98/98 [==============================] - 0s 107us/step - loss: 0.2052\n",
      "Epoch 9/10\n",
      "98/98 [==============================] - 0s 224us/step - loss: 0.1953\n",
      "Epoch 10/10\n",
      "98/98 [==============================] - 0s 156us/step - loss: 0.1778\n"
     ]
    },
    {
     "name": "stderr",
     "output_type": "stream",
     "text": [
      "INFO:__main__:MAPE for 2015-12-31: 3.90%\n"
     ]
    },
    {
     "name": "stdout",
     "output_type": "stream",
     "text": [
      "Epoch 1/10\n",
      "102/102 [==============================] - 2s 18ms/step - loss: 0.3301\n",
      "Epoch 2/10\n",
      "102/102 [==============================] - 0s 76us/step - loss: 0.3017\n",
      "Epoch 3/10\n",
      "102/102 [==============================] - 0s 97us/step - loss: 0.2802\n",
      "Epoch 4/10\n",
      "102/102 [==============================] - 0s 77us/step - loss: 0.2635\n",
      "Epoch 5/10\n",
      "102/102 [==============================] - 0s 123us/step - loss: 0.2466\n",
      "Epoch 6/10\n",
      "102/102 [==============================] - 0s 429us/step - loss: 0.2280\n",
      "Epoch 7/10\n",
      "102/102 [==============================] - 0s 168us/step - loss: 0.2117\n",
      "Epoch 8/10\n",
      "102/102 [==============================] - 0s 139us/step - loss: 0.1966\n",
      "Epoch 9/10\n",
      "102/102 [==============================] - 0s 112us/step - loss: 0.1815\n",
      "Epoch 10/10\n",
      "102/102 [==============================] - 0s 165us/step - loss: 0.1638\n"
     ]
    },
    {
     "name": "stderr",
     "output_type": "stream",
     "text": [
      "INFO:__main__:MAPE for 2016-01-31: 2.53%\n"
     ]
    },
    {
     "name": "stdout",
     "output_type": "stream",
     "text": [
      "Epoch 1/10\n",
      "106/106 [==============================] - 3s 24ms/step - loss: 0.3113\n",
      "Epoch 2/10\n",
      "106/106 [==============================] - 0s 38us/step - loss: 0.2867\n",
      "Epoch 3/10\n",
      "106/106 [==============================] - 0s 66us/step - loss: 0.2675\n",
      "Epoch 4/10\n",
      "106/106 [==============================] - 0s 75us/step - loss: 0.2483\n",
      "Epoch 5/10\n",
      "106/106 [==============================] - 0s 83us/step - loss: 0.2327\n",
      "Epoch 6/10\n",
      "106/106 [==============================] - 0s 89us/step - loss: 0.2193\n",
      "Epoch 7/10\n",
      "106/106 [==============================] - 0s 162us/step - loss: 0.2013\n",
      "Epoch 8/10\n",
      "106/106 [==============================] - 0s 126us/step - loss: 0.1851\n",
      "Epoch 9/10\n",
      "106/106 [==============================] - 0s 191us/step - loss: 0.1692\n",
      "Epoch 10/10\n",
      "106/106 [==============================] - 0s 251us/step - loss: 0.1558\n"
     ]
    },
    {
     "name": "stderr",
     "output_type": "stream",
     "text": [
      "INFO:__main__:MAPE for 2016-02-29: 2.34%\n"
     ]
    },
    {
     "name": "stdout",
     "output_type": "stream",
     "text": [
      "Epoch 1/10\n",
      "110/110 [==============================] - 3s 27ms/step - loss: 0.3063\n",
      "Epoch 2/10\n",
      "110/110 [==============================] - 0s 112us/step - loss: 0.2775\n",
      "Epoch 3/10\n",
      "110/110 [==============================] - 0s 93us/step - loss: 0.2581\n",
      "Epoch 4/10\n",
      "110/110 [==============================] - 0s 83us/step - loss: 0.2393\n",
      "Epoch 5/10\n",
      "110/110 [==============================] - 0s 144us/step - loss: 0.2243\n",
      "Epoch 6/10\n",
      "110/110 [==============================] - 0s 191us/step - loss: 0.2066\n",
      "Epoch 7/10\n",
      "110/110 [==============================] - 0s 144us/step - loss: 0.1887\n",
      "Epoch 8/10\n",
      "110/110 [==============================] - 0s 189us/step - loss: 0.1721\n",
      "Epoch 9/10\n",
      "110/110 [==============================] - 0s 149us/step - loss: 0.1601\n",
      "Epoch 10/10\n",
      "110/110 [==============================] - 0s 212us/step - loss: 0.1435\n"
     ]
    },
    {
     "name": "stderr",
     "output_type": "stream",
     "text": [
      "INFO:__main__:MAPE for 2016-03-31: 12.08%\n"
     ]
    },
    {
     "name": "stdout",
     "output_type": "stream",
     "text": [
      "Epoch 1/10\n",
      "114/114 [==============================] - 4s 31ms/step - loss: 0.3054\n",
      "Epoch 2/10\n",
      "114/114 [==============================] - 0s 51us/step - loss: 0.2741\n",
      "Epoch 3/10\n",
      "114/114 [==============================] - 0s 55us/step - loss: 0.2527\n",
      "Epoch 4/10\n",
      "114/114 [==============================] - 0s 106us/step - loss: 0.2349\n",
      "Epoch 5/10\n",
      "114/114 [==============================] - 0s 62us/step - loss: 0.2171\n",
      "Epoch 6/10\n",
      "114/114 [==============================] - 0s 129us/step - loss: 0.1997\n",
      "Epoch 7/10\n",
      "114/114 [==============================] - 0s 75us/step - loss: 0.1849\n",
      "Epoch 8/10\n",
      "114/114 [==============================] - 0s 87us/step - loss: 0.1685\n",
      "Epoch 9/10\n",
      "114/114 [==============================] - 0s 173us/step - loss: 0.1551\n",
      "Epoch 10/10\n",
      "114/114 [==============================] - 0s 149us/step - loss: 0.1405\n"
     ]
    },
    {
     "name": "stderr",
     "output_type": "stream",
     "text": [
      "INFO:__main__:MAPE for 2016-04-30: 11.84%\n"
     ]
    },
    {
     "name": "stdout",
     "output_type": "stream",
     "text": [
      "Epoch 1/10\n",
      "119/119 [==============================] - 4s 30ms/step - loss: 0.2778\n",
      "Epoch 2/10\n",
      "119/119 [==============================] - 0s 54us/step - loss: 0.2506\n",
      "Epoch 3/10\n",
      "119/119 [==============================] - 0s 83us/step - loss: 0.2285\n",
      "Epoch 4/10\n",
      "119/119 [==============================] - 0s 144us/step - loss: 0.2115\n",
      "Epoch 5/10\n",
      "119/119 [==============================] - 0s 146us/step - loss: 0.1946\n",
      "Epoch 6/10\n",
      "119/119 [==============================] - 0s 156us/step - loss: 0.1787\n",
      "Epoch 7/10\n",
      "119/119 [==============================] - 0s 292us/step - loss: 0.1607\n",
      "Epoch 8/10\n",
      "119/119 [==============================] - 0s 174us/step - loss: 0.1487\n",
      "Epoch 9/10\n",
      "119/119 [==============================] - 0s 257us/step - loss: 0.1356\n",
      "Epoch 10/10\n",
      "119/119 [==============================] - 0s 137us/step - loss: 0.1250\n"
     ]
    },
    {
     "name": "stderr",
     "output_type": "stream",
     "text": [
      "INFO:__main__:MAPE for 2016-05-31: 9.47%\n"
     ]
    },
    {
     "name": "stdout",
     "output_type": "stream",
     "text": [
      "Epoch 1/10\n",
      "123/123 [==============================] - 4s 33ms/step - loss: 0.2776\n",
      "Epoch 2/10\n",
      "123/123 [==============================] - 0s 80us/step - loss: 0.2526\n",
      "Epoch 3/10\n",
      "123/123 [==============================] - 0s 161us/step - loss: 0.2361\n",
      "Epoch 4/10\n",
      "123/123 [==============================] - 0s 135us/step - loss: 0.2190\n",
      "Epoch 5/10\n",
      "123/123 [==============================] - 0s 126us/step - loss: 0.2048\n",
      "Epoch 6/10\n",
      "123/123 [==============================] - 0s 124us/step - loss: 0.1882\n",
      "Epoch 7/10\n",
      "123/123 [==============================] - 0s 110us/step - loss: 0.1753\n",
      "Epoch 8/10\n",
      "123/123 [==============================] - 0s 97us/step - loss: 0.1609\n",
      "Epoch 9/10\n",
      "123/123 [==============================] - 0s 129us/step - loss: 0.1495\n",
      "Epoch 10/10\n",
      "123/123 [==============================] - 0s 72us/step - loss: 0.1339\n"
     ]
    },
    {
     "name": "stderr",
     "output_type": "stream",
     "text": [
      "INFO:__main__:MAPE for 2016-06-30: 11.77%\n"
     ]
    },
    {
     "name": "stdout",
     "output_type": "stream",
     "text": [
      "Epoch 1/10\n",
      "127/127 [==============================] - 5s 37ms/step - loss: 0.2694\n",
      "Epoch 2/10\n",
      "127/127 [==============================] - 0s 99us/step - loss: 0.2450\n",
      "Epoch 3/10\n",
      "127/127 [==============================] - 0s 90us/step - loss: 0.2279\n",
      "Epoch 4/10\n",
      "127/127 [==============================] - 0s 122us/step - loss: 0.2121\n",
      "Epoch 5/10\n",
      "127/127 [==============================] - 0s 111us/step - loss: 0.1971\n",
      "Epoch 6/10\n",
      "127/127 [==============================] - 0s 88us/step - loss: 0.1843\n",
      "Epoch 7/10\n",
      "127/127 [==============================] - 0s 279us/step - loss: 0.1690\n",
      "Epoch 8/10\n",
      "127/127 [==============================] - 0s 138us/step - loss: 0.1556\n",
      "Epoch 9/10\n",
      "127/127 [==============================] - 0s 218us/step - loss: 0.1441\n",
      "Epoch 10/10\n",
      "127/127 [==============================] - 0s 155us/step - loss: 0.1291\n"
     ]
    },
    {
     "name": "stderr",
     "output_type": "stream",
     "text": [
      "INFO:__main__:MAPE for 2016-07-31: 20.15%\n"
     ]
    },
    {
     "name": "stdout",
     "output_type": "stream",
     "text": [
      "Epoch 1/10\n",
      "132/132 [==============================] - 5s 36ms/step - loss: 0.2658\n",
      "Epoch 2/10\n",
      "132/132 [==============================] - 0s 249us/step - loss: 0.2218\n",
      "Epoch 3/10\n",
      "132/132 [==============================] - 0s 173us/step - loss: 0.1885\n",
      "Epoch 4/10\n",
      "132/132 [==============================] - 0s 113us/step - loss: 0.1615\n",
      "Epoch 5/10\n",
      "132/132 [==============================] - 0s 195us/step - loss: 0.1400\n",
      "Epoch 6/10\n",
      "132/132 [==============================] - 0s 214us/step - loss: 0.1212\n",
      "Epoch 7/10\n",
      "132/132 [==============================] - 0s 153us/step - loss: 0.1006\n",
      "Epoch 8/10\n",
      "132/132 [==============================] - 0s 168us/step - loss: 0.0819\n",
      "Epoch 9/10\n",
      "132/132 [==============================] - 0s 158us/step - loss: 0.0724\n",
      "Epoch 10/10\n",
      "132/132 [==============================] - 0s 200us/step - loss: 0.0661\n"
     ]
    },
    {
     "name": "stderr",
     "output_type": "stream",
     "text": [
      "INFO:__main__:MAPE for 2016-08-31: 14.45%\n"
     ]
    },
    {
     "name": "stdout",
     "output_type": "stream",
     "text": [
      "Epoch 1/10\n",
      "136/136 [==============================] - 5s 38ms/step - loss: 0.2638\n",
      "Epoch 2/10\n",
      "136/136 [==============================] - 0s 135us/step - loss: 0.2265\n",
      "Epoch 3/10\n",
      "136/136 [==============================] - 0s 175us/step - loss: 0.1995\n",
      "Epoch 4/10\n",
      "136/136 [==============================] - 0s 180us/step - loss: 0.1737\n",
      "Epoch 5/10\n",
      "136/136 [==============================] - 0s 173us/step - loss: 0.1482\n",
      "Epoch 6/10\n",
      "136/136 [==============================] - 0s 171us/step - loss: 0.1249\n",
      "Epoch 7/10\n",
      "136/136 [==============================] - 0s 175us/step - loss: 0.1018\n",
      "Epoch 8/10\n",
      "136/136 [==============================] - 0s 202us/step - loss: 0.0867\n",
      "Epoch 9/10\n",
      "136/136 [==============================] - 0s 82us/step - loss: 0.0717\n",
      "Epoch 10/10\n",
      "136/136 [==============================] - 0s 190us/step - loss: 0.0590\n"
     ]
    },
    {
     "name": "stderr",
     "output_type": "stream",
     "text": [
      "INFO:__main__:MAPE for 2016-09-30: 10.49%\n"
     ]
    },
    {
     "name": "stdout",
     "output_type": "stream",
     "text": [
      "Epoch 1/10\n",
      "140/140 [==============================] - 7s 51ms/step - loss: 0.2542\n",
      "Epoch 2/10\n",
      "140/140 [==============================] - 0s 224us/step - loss: 0.2157\n",
      "Epoch 3/10\n",
      "140/140 [==============================] - 0s 208us/step - loss: 0.1850\n",
      "Epoch 4/10\n",
      "140/140 [==============================] - 0s 125us/step - loss: 0.1585\n",
      "Epoch 5/10\n",
      "140/140 [==============================] - 0s 214us/step - loss: 0.1369\n",
      "Epoch 6/10\n",
      "140/140 [==============================] - 0s 302us/step - loss: 0.1131\n",
      "Epoch 7/10\n",
      "140/140 [==============================] - 0s 307us/step - loss: 0.0922\n",
      "Epoch 8/10\n",
      "140/140 [==============================] - 0s 232us/step - loss: 0.0709\n",
      "Epoch 9/10\n",
      "140/140 [==============================] - 0s 268us/step - loss: 0.0563\n",
      "Epoch 10/10\n",
      "140/140 [==============================] - 0s 276us/step - loss: 0.0437\n"
     ]
    },
    {
     "name": "stderr",
     "output_type": "stream",
     "text": [
      "INFO:__main__:MAPE for 2016-10-31: 7.47%\n"
     ]
    },
    {
     "name": "stdout",
     "output_type": "stream",
     "text": [
      "Epoch 1/10\n",
      "144/144 [==============================] - 8s 54ms/step - loss: 0.2564\n",
      "Epoch 2/10\n",
      "144/144 [==============================] - 0s 125us/step - loss: 0.2177\n",
      "Epoch 3/10\n",
      "144/144 [==============================] - 0s 173us/step - loss: 0.1887\n",
      "Epoch 4/10\n",
      "144/144 [==============================] - 0s 278us/step - loss: 0.1630\n",
      "Epoch 5/10\n",
      "144/144 [==============================] - 0s 343us/step - loss: 0.1352\n",
      "Epoch 6/10\n",
      "144/144 [==============================] - 0s 335us/step - loss: 0.1118\n",
      "Epoch 7/10\n",
      "144/144 [==============================] - 0s 500us/step - loss: 0.0915\n",
      "Epoch 8/10\n",
      "144/144 [==============================] - 0s 285us/step - loss: 0.0722\n",
      "Epoch 9/10\n",
      "144/144 [==============================] - 0s 340us/step - loss: 0.0601\n",
      "Epoch 10/10\n",
      "144/144 [==============================] - 0s 296us/step - loss: 0.0505\n"
     ]
    },
    {
     "name": "stderr",
     "output_type": "stream",
     "text": [
      "INFO:__main__:MAPE for 2016-11-30: 2.95%\n"
     ]
    },
    {
     "name": "stdout",
     "output_type": "stream",
     "text": [
      "Epoch 1/10\n",
      "148/148 [==============================] - 8s 55ms/step - loss: 0.2551\n",
      "Epoch 2/10\n",
      "148/148 [==============================] - 0s 233us/step - loss: 0.2142\n",
      "Epoch 3/10\n",
      "148/148 [==============================] - 0s 200us/step - loss: 0.1824\n",
      "Epoch 4/10\n",
      "148/148 [==============================] - 0s 175us/step - loss: 0.1536\n",
      "Epoch 5/10\n",
      "148/148 [==============================] - 0s 156us/step - loss: 0.1264\n",
      "Epoch 6/10\n",
      "148/148 [==============================] - 0s 320us/step - loss: 0.1000\n",
      "Epoch 7/10\n",
      "148/148 [==============================] - 0s 585us/step - loss: 0.0808\n",
      "Epoch 8/10\n",
      "148/148 [==============================] - 0s 488us/step - loss: 0.0653\n",
      "Epoch 9/10\n",
      "148/148 [==============================] - 0s 227us/step - loss: 0.0519\n",
      "Epoch 10/10\n",
      "148/148 [==============================] - 0s 90us/step - loss: 0.0467\n"
     ]
    },
    {
     "name": "stderr",
     "output_type": "stream",
     "text": [
      "INFO:__main__:MAPE for 2016-12-31: 7.89%\n"
     ]
    },
    {
     "name": "stdout",
     "output_type": "stream",
     "text": [
      "Epoch 1/10\n",
      "153/153 [==============================] - 6s 38ms/step - loss: 0.2478\n",
      "Epoch 2/10\n",
      "153/153 [==============================] - 0s 65us/step - loss: 0.2109\n",
      "Epoch 3/10\n",
      "153/153 [==============================] - 0s 118us/step - loss: 0.1804\n",
      "Epoch 4/10\n",
      "153/153 [==============================] - 0s 76us/step - loss: 0.1506\n",
      "Epoch 5/10\n",
      "153/153 [==============================] - 0s 90us/step - loss: 0.1295\n",
      "Epoch 6/10\n",
      "153/153 [==============================] - 0s 80us/step - loss: 0.1053\n",
      "Epoch 7/10\n",
      "153/153 [==============================] - 0s 107us/step - loss: 0.0815\n",
      "Epoch 8/10\n",
      "153/153 [==============================] - 0s 89us/step - loss: 0.0679\n",
      "Epoch 9/10\n",
      "153/153 [==============================] - 0s 81us/step - loss: 0.0538\n",
      "Epoch 10/10\n",
      "153/153 [==============================] - 0s 122us/step - loss: 0.0438\n"
     ]
    },
    {
     "name": "stderr",
     "output_type": "stream",
     "text": [
      "INFO:__main__:MAPE for 2017-01-31: 11.90%\n"
     ]
    },
    {
     "name": "stdout",
     "output_type": "stream",
     "text": [
      "Epoch 1/10\n",
      "157/157 [==============================] - 6s 38ms/step - loss: 0.2493\n",
      "Epoch 2/10\n",
      "157/157 [==============================] - 0s 63us/step - loss: 0.2064\n",
      "Epoch 3/10\n",
      "157/157 [==============================] - 0s 82us/step - loss: 0.1774\n",
      "Epoch 4/10\n",
      "157/157 [==============================] - 0s 90us/step - loss: 0.1507\n",
      "Epoch 5/10\n",
      "157/157 [==============================] - 0s 170us/step - loss: 0.1238\n",
      "Epoch 6/10\n",
      "157/157 [==============================] - 0s 100us/step - loss: 0.0969\n",
      "Epoch 7/10\n",
      "157/157 [==============================] - 0s 119us/step - loss: 0.0767\n",
      "Epoch 8/10\n",
      "157/157 [==============================] - 0s 81us/step - loss: 0.0595\n",
      "Epoch 9/10\n",
      "157/157 [==============================] - 0s 105us/step - loss: 0.0491\n",
      "Epoch 10/10\n",
      "157/157 [==============================] - 0s 75us/step - loss: 0.0379\n"
     ]
    },
    {
     "name": "stderr",
     "output_type": "stream",
     "text": [
      "INFO:__main__:MAPE for 2017-02-28: 9.63%\n"
     ]
    },
    {
     "name": "stdout",
     "output_type": "stream",
     "text": [
      "Epoch 1/10\n",
      "161/161 [==============================] - 8s 51ms/step - loss: 0.2391\n",
      "Epoch 2/10\n",
      "161/161 [==============================] - 0s 145us/step - loss: 0.1988\n",
      "Epoch 3/10\n",
      "161/161 [==============================] - 0s 138us/step - loss: 0.1713\n",
      "Epoch 4/10\n",
      "161/161 [==============================] - 0s 102us/step - loss: 0.1444\n",
      "Epoch 5/10\n",
      "161/161 [==============================] - 0s 111us/step - loss: 0.1195\n",
      "Epoch 6/10\n",
      "161/161 [==============================] - 0s 63us/step - loss: 0.0990\n",
      "Epoch 7/10\n",
      "161/161 [==============================] - 0s 70us/step - loss: 0.0819\n",
      "Epoch 8/10\n",
      "161/161 [==============================] - 0s 64us/step - loss: 0.0641\n",
      "Epoch 9/10\n",
      "161/161 [==============================] - 0s 55us/step - loss: 0.0521\n",
      "Epoch 10/10\n",
      "161/161 [==============================] - 0s 73us/step - loss: 0.0429\n"
     ]
    },
    {
     "name": "stderr",
     "output_type": "stream",
     "text": [
      "INFO:__main__:MAPE for 2017-03-31: 11.50%\n"
     ]
    },
    {
     "name": "stdout",
     "output_type": "stream",
     "text": [
      "Epoch 1/10\n",
      "165/165 [==============================] - 7s 45ms/step - loss: 0.2346\n",
      "Epoch 2/10\n",
      "165/165 [==============================] - 0s 87us/step - loss: 0.1976\n",
      "Epoch 3/10\n",
      "165/165 [==============================] - 0s 112us/step - loss: 0.1672\n",
      "Epoch 4/10\n",
      "165/165 [==============================] - 0s 60us/step - loss: 0.1418\n",
      "Epoch 5/10\n",
      "165/165 [==============================] - 0s 92us/step - loss: 0.1160\n",
      "Epoch 6/10\n",
      "165/165 [==============================] - 0s 74us/step - loss: 0.0938\n",
      "Epoch 7/10\n",
      "165/165 [==============================] - 0s 78us/step - loss: 0.0766\n",
      "Epoch 8/10\n",
      "165/165 [==============================] - 0s 91us/step - loss: 0.0648\n",
      "Epoch 9/10\n",
      "165/165 [==============================] - 0s 70us/step - loss: 0.0535\n",
      "Epoch 10/10\n",
      "165/165 [==============================] - 0s 110us/step - loss: 0.0431\n"
     ]
    },
    {
     "name": "stderr",
     "output_type": "stream",
     "text": [
      "INFO:__main__:MAPE for 2017-04-30: 3.55%\n"
     ]
    },
    {
     "name": "stdout",
     "output_type": "stream",
     "text": [
      "Epoch 1/10\n",
      "170/170 [==============================] - 9s 53ms/step - loss: 0.2291\n",
      "Epoch 2/10\n",
      "170/170 [==============================] - 0s 273us/step - loss: 0.1875\n",
      "Epoch 3/10\n",
      "170/170 [==============================] - 0s 319us/step - loss: 0.1591\n",
      "Epoch 4/10\n",
      "170/170 [==============================] - 0s 296us/step - loss: 0.1349\n",
      "Epoch 5/10\n",
      "170/170 [==============================] - 0s 435us/step - loss: 0.1104\n",
      "Epoch 6/10\n",
      "170/170 [==============================] - 0s 443us/step - loss: 0.0936\n",
      "Epoch 7/10\n",
      "170/170 [==============================] - 0s 416us/step - loss: 0.0764\n",
      "Epoch 8/10\n",
      "170/170 [==============================] - 0s 174us/step - loss: 0.0592\n",
      "Epoch 9/10\n",
      "170/170 [==============================] - 0s 208us/step - loss: 0.0486\n",
      "Epoch 10/10\n",
      "170/170 [==============================] - 0s 183us/step - loss: 0.0397\n"
     ]
    },
    {
     "name": "stderr",
     "output_type": "stream",
     "text": [
      "INFO:__main__:MAPE for 2017-05-31: 1.93%\n"
     ]
    },
    {
     "name": "stdout",
     "output_type": "stream",
     "text": [
      "Epoch 1/10\n",
      "174/174 [==============================] - 10s 58ms/step - loss: 0.2215\n",
      "Epoch 2/10\n",
      "174/174 [==============================] - 0s 157us/step - loss: 0.1831\n",
      "Epoch 3/10\n",
      "174/174 [==============================] - 0s 165us/step - loss: 0.1539\n",
      "Epoch 4/10\n",
      "174/174 [==============================] - 0s 79us/step - loss: 0.1302\n",
      "Epoch 5/10\n",
      "174/174 [==============================] - 0s 100us/step - loss: 0.1052\n",
      "Epoch 6/10\n",
      "174/174 [==============================] - 0s 77us/step - loss: 0.0828\n",
      "Epoch 7/10\n",
      "174/174 [==============================] - 0s 89us/step - loss: 0.0677\n",
      "Epoch 8/10\n",
      "174/174 [==============================] - 0s 79us/step - loss: 0.0569\n",
      "Epoch 9/10\n",
      "174/174 [==============================] - 0s 108us/step - loss: 0.0475\n",
      "Epoch 10/10\n",
      "174/174 [==============================] - 0s 115us/step - loss: 0.0432\n"
     ]
    },
    {
     "name": "stderr",
     "output_type": "stream",
     "text": [
      "INFO:__main__:MAPE for 2017-06-30: 1.12%\n"
     ]
    },
    {
     "name": "stdout",
     "output_type": "stream",
     "text": [
      "Epoch 1/10\n",
      "179/179 [==============================] - 10s 57ms/step - loss: 0.2189\n",
      "Epoch 2/10\n",
      "179/179 [==============================] - 0s 180us/step - loss: 0.1815\n",
      "Epoch 3/10\n",
      "179/179 [==============================] - 0s 227us/step - loss: 0.1544\n",
      "Epoch 4/10\n",
      "179/179 [==============================] - 0s 178us/step - loss: 0.1292\n",
      "Epoch 5/10\n",
      "179/179 [==============================] - 0s 232us/step - loss: 0.1077\n",
      "Epoch 6/10\n",
      "179/179 [==============================] - 0s 321us/step - loss: 0.0880\n",
      "Epoch 7/10\n",
      "179/179 [==============================] - 0s 238us/step - loss: 0.0724\n",
      "Epoch 8/10\n",
      "179/179 [==============================] - 0s 349us/step - loss: 0.0568\n",
      "Epoch 9/10\n",
      "179/179 [==============================] - 0s 379us/step - loss: 0.0488\n",
      "Epoch 10/10\n",
      "179/179 [==============================] - 0s 270us/step - loss: 0.0407\n"
     ]
    },
    {
     "name": "stderr",
     "output_type": "stream",
     "text": [
      "INFO:__main__:MAPE for 2017-07-31: 2.55%\n"
     ]
    },
    {
     "name": "stdout",
     "output_type": "stream",
     "text": [
      "Epoch 1/10\n",
      "183/183 [==============================] - 8s 45ms/step - loss: 0.2216\n",
      "Epoch 2/10\n",
      "183/183 [==============================] - 0s 65us/step - loss: 0.1847\n",
      "Epoch 3/10\n",
      "183/183 [==============================] - 0s 91us/step - loss: 0.1563\n",
      "Epoch 4/10\n",
      "183/183 [==============================] - 0s 51us/step - loss: 0.1310\n",
      "Epoch 5/10\n",
      "183/183 [==============================] - 0s 97us/step - loss: 0.1072\n",
      "Epoch 6/10\n",
      "183/183 [==============================] - 0s 67us/step - loss: 0.0875\n",
      "Epoch 7/10\n",
      "183/183 [==============================] - 0s 93us/step - loss: 0.0682\n",
      "Epoch 8/10\n",
      "183/183 [==============================] - 0s 98us/step - loss: 0.0552\n",
      "Epoch 9/10\n",
      "183/183 [==============================] - 0s 101us/step - loss: 0.0467\n",
      "Epoch 10/10\n",
      "183/183 [==============================] - 0s 57us/step - loss: 0.0409\n"
     ]
    },
    {
     "name": "stderr",
     "output_type": "stream",
     "text": [
      "INFO:__main__:MAPE for 2017-08-31: 0.57%\n"
     ]
    },
    {
     "name": "stdout",
     "output_type": "stream",
     "text": [
      "Epoch 1/10\n",
      "187/187 [==============================] - 8s 44ms/step - loss: 0.2261\n",
      "Epoch 2/10\n",
      "187/187 [==============================] - 0s 50us/step - loss: 0.1858\n",
      "Epoch 3/10\n",
      "187/187 [==============================] - 0s 98us/step - loss: 0.1584\n",
      "Epoch 4/10\n",
      "187/187 [==============================] - 0s 60us/step - loss: 0.1315\n",
      "Epoch 5/10\n",
      "187/187 [==============================] - 0s 61us/step - loss: 0.1080\n",
      "Epoch 6/10\n",
      "187/187 [==============================] - 0s 82us/step - loss: 0.0845\n",
      "Epoch 7/10\n",
      "187/187 [==============================] - 0s 70us/step - loss: 0.0697\n",
      "Epoch 8/10\n",
      "187/187 [==============================] - 0s 86us/step - loss: 0.0560\n",
      "Epoch 9/10\n",
      "187/187 [==============================] - 0s 58us/step - loss: 0.0468\n",
      "Epoch 10/10\n",
      "187/187 [==============================] - 0s 82us/step - loss: 0.0400\n"
     ]
    },
    {
     "name": "stderr",
     "output_type": "stream",
     "text": [
      "INFO:__main__:MAPE for 2017-09-30: 7.23%\n"
     ]
    },
    {
     "name": "stdout",
     "output_type": "stream",
     "text": [
      "Epoch 1/10\n",
      "191/191 [==============================] - 9s 48ms/step - loss: 0.2230\n",
      "Epoch 2/10\n",
      "191/191 [==============================] - 0s 119us/step - loss: 0.1873\n",
      "Epoch 3/10\n",
      "191/191 [==============================] - 0s 105us/step - loss: 0.1586\n",
      "Epoch 4/10\n",
      "191/191 [==============================] - 0s 81us/step - loss: 0.1310\n",
      "Epoch 5/10\n",
      "191/191 [==============================] - 0s 159us/step - loss: 0.1093\n",
      "Epoch 6/10\n",
      "191/191 [==============================] - 0s 73us/step - loss: 0.0866\n",
      "Epoch 7/10\n",
      "191/191 [==============================] - 0s 141us/step - loss: 0.0682\n",
      "Epoch 8/10\n",
      "191/191 [==============================] - 0s 151us/step - loss: 0.0542\n",
      "Epoch 9/10\n",
      "191/191 [==============================] - 0s 138us/step - loss: 0.0455\n",
      "Epoch 10/10\n",
      "191/191 [==============================] - 0s 103us/step - loss: 0.0377\n"
     ]
    },
    {
     "name": "stderr",
     "output_type": "stream",
     "text": [
      "INFO:__main__:MAPE for 2017-10-31: 3.94%\n"
     ]
    },
    {
     "name": "stdout",
     "output_type": "stream",
     "text": [
      "Epoch 1/10\n",
      "195/195 [==============================] - 10s 51ms/step - loss: 0.2217\n",
      "Epoch 2/10\n",
      "195/195 [==============================] - 0s 87us/step - loss: 0.1829\n",
      "Epoch 3/10\n",
      "195/195 [==============================] - 0s 85us/step - loss: 0.1546\n",
      "Epoch 4/10\n",
      "195/195 [==============================] - 0s 55us/step - loss: 0.1300\n",
      "Epoch 5/10\n",
      "195/195 [==============================] - 0s 103us/step - loss: 0.1062\n",
      "Epoch 6/10\n",
      "195/195 [==============================] - 0s 75us/step - loss: 0.0886\n",
      "Epoch 7/10\n",
      "195/195 [==============================] - 0s 158us/step - loss: 0.0724\n",
      "Epoch 8/10\n",
      "195/195 [==============================] - 0s 123us/step - loss: 0.0561\n",
      "Epoch 9/10\n",
      "195/195 [==============================] - 0s 91us/step - loss: 0.0492\n",
      "Epoch 10/10\n",
      "195/195 [==============================] - 0s 92us/step - loss: 0.0388\n"
     ]
    },
    {
     "name": "stderr",
     "output_type": "stream",
     "text": [
      "INFO:__main__:MAPE for 2017-11-30: 3.84%\n"
     ]
    },
    {
     "name": "stdout",
     "output_type": "stream",
     "text": [
      "Epoch 1/10\n",
      "199/199 [==============================] - 11s 55ms/step - loss: 0.2184\n",
      "Epoch 2/10\n",
      "199/199 [==============================] - 0s 78us/step - loss: 0.1810\n",
      "Epoch 3/10\n",
      "199/199 [==============================] - 0s 79us/step - loss: 0.1533\n",
      "Epoch 4/10\n",
      "199/199 [==============================] - 0s 91us/step - loss: 0.1278\n",
      "Epoch 5/10\n",
      "199/199 [==============================] - 0s 71us/step - loss: 0.1047\n",
      "Epoch 6/10\n",
      "199/199 [==============================] - 0s 78us/step - loss: 0.0820\n",
      "Epoch 7/10\n",
      "199/199 [==============================] - 0s 80us/step - loss: 0.0632\n",
      "Epoch 8/10\n",
      "199/199 [==============================] - 0s 98us/step - loss: 0.0487\n",
      "Epoch 9/10\n",
      "199/199 [==============================] - 0s 75us/step - loss: 0.0432\n",
      "Epoch 10/10\n",
      "199/199 [==============================] - 0s 95us/step - loss: 0.0323\n"
     ]
    },
    {
     "name": "stderr",
     "output_type": "stream",
     "text": [
      "INFO:__main__:MAPE for 2017-12-31: 4.31%\n"
     ]
    },
    {
     "name": "stdout",
     "output_type": "stream",
     "text": [
      "Epoch 1/10\n",
      "204/204 [==============================] - 14s 69ms/step - loss: 0.2269\n",
      "Epoch 2/10\n",
      "204/204 [==============================] - 0s 50us/step - loss: 0.1888\n",
      "Epoch 3/10\n",
      "204/204 [==============================] - 0s 97us/step - loss: 0.1624\n",
      "Epoch 4/10\n",
      "204/204 [==============================] - 0s 68us/step - loss: 0.1380\n",
      "Epoch 5/10\n",
      "204/204 [==============================] - 0s 77us/step - loss: 0.1144\n",
      "Epoch 6/10\n",
      "204/204 [==============================] - 0s 48us/step - loss: 0.0937\n",
      "Epoch 7/10\n",
      "204/204 [==============================] - 0s 70us/step - loss: 0.0753\n",
      "Epoch 8/10\n",
      "204/204 [==============================] - 0s 74us/step - loss: 0.0624\n",
      "Epoch 9/10\n",
      "204/204 [==============================] - 0s 73us/step - loss: 0.0499\n",
      "Epoch 10/10\n",
      "204/204 [==============================] - 0s 67us/step - loss: 0.0425\n"
     ]
    },
    {
     "name": "stderr",
     "output_type": "stream",
     "text": [
      "INFO:__main__:MAPE for 2018-01-31: 4.51%\n"
     ]
    },
    {
     "name": "stdout",
     "output_type": "stream",
     "text": [
      "Epoch 1/10\n",
      "208/208 [==============================] - 10s 49ms/step - loss: 0.2298\n",
      "Epoch 2/10\n",
      "208/208 [==============================] - 0s 70us/step - loss: 0.1930\n",
      "Epoch 3/10\n",
      "208/208 [==============================] - 0s 67us/step - loss: 0.1656\n",
      "Epoch 4/10\n",
      "208/208 [==============================] - 0s 54us/step - loss: 0.1409\n",
      "Epoch 5/10\n",
      "208/208 [==============================] - 0s 74us/step - loss: 0.1159\n",
      "Epoch 6/10\n",
      "208/208 [==============================] - 0s 56us/step - loss: 0.0946\n",
      "Epoch 7/10\n",
      "208/208 [==============================] - 0s 57us/step - loss: 0.0757\n",
      "Epoch 8/10\n",
      "208/208 [==============================] - 0s 66us/step - loss: 0.0607\n",
      "Epoch 9/10\n",
      "208/208 [==============================] - 0s 51us/step - loss: 0.0500\n",
      "Epoch 10/10\n",
      "208/208 [==============================] - 0s 75us/step - loss: 0.0400\n"
     ]
    },
    {
     "name": "stderr",
     "output_type": "stream",
     "text": [
      "INFO:__main__:MAPE for 2018-02-28: 10.37%\n"
     ]
    },
    {
     "name": "stdout",
     "output_type": "stream",
     "text": [
      "Epoch 1/10\n",
      "212/212 [==============================] - 11s 53ms/step - loss: 0.2178\n",
      "Epoch 2/10\n",
      "212/212 [==============================] - 0s 51us/step - loss: 0.1807\n",
      "Epoch 3/10\n",
      "212/212 [==============================] - 0s 65us/step - loss: 0.1512\n",
      "Epoch 4/10\n",
      "212/212 [==============================] - 0s 54us/step - loss: 0.1239\n",
      "Epoch 5/10\n",
      "212/212 [==============================] - 0s 50us/step - loss: 0.1006\n",
      "Epoch 6/10\n",
      "212/212 [==============================] - 0s 81us/step - loss: 0.0807\n",
      "Epoch 7/10\n",
      "212/212 [==============================] - 0s 148us/step - loss: 0.0628\n",
      "Epoch 8/10\n",
      "212/212 [==============================] - 0s 80us/step - loss: 0.0480\n",
      "Epoch 9/10\n",
      "212/212 [==============================] - 0s 78us/step - loss: 0.0396\n",
      "Epoch 10/10\n",
      "212/212 [==============================] - 0s 72us/step - loss: 0.0341\n"
     ]
    },
    {
     "name": "stderr",
     "output_type": "stream",
     "text": [
      "INFO:__main__:MAPE for 2018-03-31: 8.63%\n"
     ]
    },
    {
     "name": "stdout",
     "output_type": "stream",
     "text": [
      "Epoch 1/10\n",
      "217/217 [==============================] - 11s 53ms/step - loss: 0.2269\n",
      "Epoch 2/10\n",
      "217/217 [==============================] - 0s 55us/step - loss: 0.1905\n",
      "Epoch 3/10\n",
      "217/217 [==============================] - 0s 80us/step - loss: 0.1634\n",
      "Epoch 4/10\n",
      "217/217 [==============================] - 0s 62us/step - loss: 0.1385\n",
      "Epoch 5/10\n",
      "217/217 [==============================] - 0s 77us/step - loss: 0.1134\n",
      "Epoch 6/10\n",
      "217/217 [==============================] - 0s 60us/step - loss: 0.0918\n",
      "Epoch 7/10\n",
      "217/217 [==============================] - 0s 92us/step - loss: 0.0706\n",
      "Epoch 8/10\n",
      "217/217 [==============================] - 0s 63us/step - loss: 0.0551\n",
      "Epoch 9/10\n",
      "217/217 [==============================] - 0s 70us/step - loss: 0.0449\n",
      "Epoch 10/10\n",
      "217/217 [==============================] - 0s 57us/step - loss: 0.0371\n"
     ]
    },
    {
     "name": "stderr",
     "output_type": "stream",
     "text": [
      "INFO:__main__:MAPE for 2018-04-30: 16.23%\n"
     ]
    },
    {
     "name": "stdout",
     "output_type": "stream",
     "text": [
      "Epoch 1/10\n",
      "221/221 [==============================] - 13s 59ms/step - loss: 0.2197\n",
      "Epoch 2/10\n",
      "221/221 [==============================] - 0s 67us/step - loss: 0.1764\n",
      "Epoch 3/10\n",
      "221/221 [==============================] - 0s 60us/step - loss: 0.1439\n",
      "Epoch 4/10\n",
      "221/221 [==============================] - 0s 76us/step - loss: 0.1147\n",
      "Epoch 5/10\n",
      "221/221 [==============================] - 0s 57us/step - loss: 0.0898\n",
      "Epoch 6/10\n",
      "221/221 [==============================] - 0s 68us/step - loss: 0.0696\n",
      "Epoch 7/10\n",
      "221/221 [==============================] - 0s 75us/step - loss: 0.0536\n",
      "Epoch 8/10\n",
      "221/221 [==============================] - 0s 93us/step - loss: 0.0427\n",
      "Epoch 9/10\n",
      "221/221 [==============================] - 0s 63us/step - loss: 0.0341\n",
      "Epoch 10/10\n",
      "221/221 [==============================] - 0s 88us/step - loss: 0.0325\n"
     ]
    },
    {
     "name": "stderr",
     "output_type": "stream",
     "text": [
      "INFO:__main__:MAPE for 2018-05-31: 14.45%\n"
     ]
    },
    {
     "name": "stdout",
     "output_type": "stream",
     "text": [
      "Epoch 1/10\n",
      "225/225 [==============================] - 14s 62ms/step - loss: 0.2293\n",
      "Epoch 2/10\n",
      "225/225 [==============================] - 0s 55us/step - loss: 0.1902\n",
      "Epoch 3/10\n",
      "225/225 [==============================] - 0s 66us/step - loss: 0.1601\n",
      "Epoch 4/10\n",
      "225/225 [==============================] - 0s 67us/step - loss: 0.1332\n",
      "Epoch 5/10\n",
      "225/225 [==============================] - 0s 70us/step - loss: 0.1080\n",
      "Epoch 6/10\n",
      "225/225 [==============================] - 0s 72us/step - loss: 0.0868\n",
      "Epoch 7/10\n",
      "225/225 [==============================] - 0s 75us/step - loss: 0.0684\n",
      "Epoch 8/10\n",
      "225/225 [==============================] - 0s 92us/step - loss: 0.0547\n",
      "Epoch 9/10\n",
      "225/225 [==============================] - 0s 76us/step - loss: 0.0435\n",
      "Epoch 10/10\n",
      "225/225 [==============================] - 0s 64us/step - loss: 0.0372\n"
     ]
    },
    {
     "name": "stderr",
     "output_type": "stream",
     "text": [
      "INFO:__main__:MAPE for 2018-06-30: 21.60%\n"
     ]
    }
   ],
   "source": [
    " def get_next_monday(df, date):\n",
    "    first = True\n",
    "    while len(df[df.index == str(date).split()[0]]) == 0:\n",
    "        if first:\n",
    "            date += timedelta(days=((7 - date.weekday()) % 7))\n",
    "            first = False\n",
    "        else:\n",
    "            date += timedelta(7)\n",
    "    return date\n",
    "\n",
    "def mean_absolute_percentage_error(y_true, y_pred): \n",
    "    y_true, y_pred = np.array(y_true), np.array(y_pred)\n",
    "    return np.mean(np.abs((y_true - y_pred) / y_true)) * 100\n",
    "\n",
    "def test_sol(date):\n",
    "    df = pd.read_csv('./data/retrieved_data.csv')\n",
    "    ppp = PPPredictor()\n",
    "    prepared = ppp.prepare_data(df, date)\n",
    "    ppp.fit(prepared)\n",
    "    \"\"\"\n",
    "    df.index = pd.to_datetime(df['Date'])\n",
    "    df.drop(['Date'], axis=1, inplace=True)\n",
    "    for col in df.columns:\n",
    "        df[col].interpolate(method='time', inplace=True)\n",
    "        df[col].fillna(method='bfill', inplace=True)\"\"\"\n",
    "    \n",
    "    start = pd.to_datetime(date) + timedelta(3 * 30)\n",
    "    end = pd.to_datetime(date) + timedelta(4 * 30)\n",
    "    pred = []\n",
    "    actual = []\n",
    "    for dt in pd.date_range(start, end, freq='W'):\n",
    "        pred.append(ppp.predict(str(dt).split()[0]))\n",
    "        actual_dt = get_next_monday(df, dt)\n",
    "        right_val = df[df.index == str(actual_dt).split()[0]]['PPSpotAvgPrice'].iloc[0]\n",
    "        actual.append(right_val)\n",
    "    logger.info('MAPE for {}: {:.2f}%'.format(date, mean_absolute_percentage_error(pred, actual)))\n",
    "\n",
    "for dt in pd.date_range(start=pd.to_datetime('2015-12-01'), \n",
    "                        end=pd.to_datetime('2018-07-01'), freq='M'):\n",
    "    test_sol(str(dt).split()[0])"
   ]
  },
  {
   "cell_type": "code",
   "execution_count": null,
   "metadata": {},
   "outputs": [],
   "source": []
  }
 ],
 "metadata": {
  "kernelspec": {
   "display_name": "venv",
   "language": "python",
   "name": "venv"
  },
  "language_info": {
   "codemirror_mode": {
    "name": "ipython",
    "version": 3
   },
   "file_extension": ".py",
   "mimetype": "text/x-python",
   "name": "python",
   "nbconvert_exporter": "python",
   "pygments_lexer": "ipython3",
   "version": "3.6.6"
  }
 },
 "nbformat": 4,
 "nbformat_minor": 2
}
