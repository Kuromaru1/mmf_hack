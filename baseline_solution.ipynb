{
 "cells": [
  {
   "cell_type": "code",
   "execution_count": 159,
   "metadata": {},
   "outputs": [
    {
     "data": {
      "text/html": [
       "<script type=\"text/javascript\">window.PlotlyConfig = {MathJaxConfig: 'local'};</script><script type=\"text/javascript\">if (window.MathJax) {MathJax.Hub.Config({SVG: {font: \"STIX-Web\"}});}</script><script>requirejs.config({paths: { 'plotly': ['https://cdn.plot.ly/plotly-latest.min']},});if(!window._Plotly) {require(['plotly'],function(plotly) {window._Plotly=plotly;});}</script>"
      ],
      "text/vnd.plotly.v1+html": [
       "<script type=\"text/javascript\">window.PlotlyConfig = {MathJaxConfig: 'local'};</script><script type=\"text/javascript\">if (window.MathJax) {MathJax.Hub.Config({SVG: {font: \"STIX-Web\"}});}</script><script>requirejs.config({paths: { 'plotly': ['https://cdn.plot.ly/plotly-latest.min']},});if(!window._Plotly) {require(['plotly'],function(plotly) {window._Plotly=plotly;});}</script>"
      ]
     },
     "metadata": {},
     "output_type": "display_data"
    }
   ],
   "source": [
    "import pandas as pd\n",
    "import matplotlib\n",
    "import numpy as np\n",
    "import matplotlib.pyplot as plt\n",
    "from plotly.offline import download_plotlyjs, init_notebook_mode, plot, iplot\n",
    "from plotly import graph_objs as go\n",
    "from scipy.stats import pearsonr\n",
    "from statsmodels.tsa.arima_model import ARIMA\n",
    "from fbprophet import Prophet\n",
    "from sklearn.metrics import mean_squared_error\n",
    "from sklearn.model_selection import train_test_split\n",
    "from datetime import timedelta\n",
    "\n",
    "import warnings\n",
    "warnings.filterwarnings('ignore')\n",
    "\n",
    "import logging\n",
    "logging.getLogger('fbprophet').setLevel(logging.WARNING)\n",
    "\n",
    "%matplotlib inline\n",
    "init_notebook_mode(connected = True)"
   ]
  },
  {
   "cell_type": "code",
   "execution_count": 114,
   "metadata": {},
   "outputs": [],
   "source": [
    "class PPPredictor:\n",
    "    \n",
    "    def __init__(self):\n",
    "        self.model = Prophet()\n",
    "    \n",
    "    def prepare_data(self, data, actual_date):\n",
    "        df = data.copy()\n",
    "        df.index = pd.to_datetime(df['Date'])\n",
    "        df.drop(['Date'], axis=1, inplace=True)\n",
    "        for col in df.columns:\n",
    "            df[col].interpolate(method='time', inplace=True)\n",
    "        df.index = pd.to_datetime(df.index)\n",
    "        return df[df.index <= pd.to_datetime(actual_date)]\n",
    "\n",
    "    def fit(self, prepared_data, use_text_model=False):\n",
    "        prepared_df = pd.DataFrame({'ds': prepared_data.index, 'y': prepared_data['PPSpotAvgPrice']}).reset_index().drop(['Date'], axis=1)\n",
    "        self.model.fit(prepared_df)\n",
    "        return self.model\n",
    "    \n",
    "    def predict(self, date):\n",
    "        date = pd.to_datetime(date)\n",
    "        forecast = self.model.predict(pd.DataFrame({'ds': [date]}))\n",
    "        return forecast['yhat'][0]"
   ]
  },
  {
   "cell_type": "code",
   "execution_count": 171,
   "metadata": {},
   "outputs": [],
   "source": [
    " def get_next_monday(df, date):\n",
    "    first = True\n",
    "    while len(df[df.index == str(date).split()[0]]) == 0:\n",
    "        if first:\n",
    "            date += timedelta(days=((7 - date.weekday()) % 7))\n",
    "            first = False\n",
    "        else:\n",
    "            date += timedelta(7)\n",
    "    return date\n",
    "\n",
    "def mean_absolute_percentage_error(y_true, y_pred): \n",
    "    y_true, y_pred = np.array(y_true), np.array(y_pred)\n",
    "    return np.mean(np.abs((y_true - y_pred) / y_true)) * 100\n",
    "\n",
    "def test_sol(date):\n",
    "    df = pd.read_csv('./data/retrieved_data.csv')\n",
    "    ppp = PPPredictor()\n",
    "    prepared = ppp.prepare_data(df, date)\n",
    "    ppp.fit(prepared)\n",
    "    \n",
    "    df.index = pd.to_datetime(df['Date'])\n",
    "    df.drop(['Date'], axis=1, inplace=True)\n",
    "    for col in df.columns:\n",
    "        df[col].interpolate(method='time', inplace=True)\n",
    "    \n",
    "    start = pd.to_datetime(date) + timedelta(3 * 30)\n",
    "    end = pd.to_datetime(date) + timedelta(4 * 30)\n",
    "    pred = []\n",
    "    actual = []\n",
    "    for dt in pd.date_range(start, end, freq='W'):\n",
    "        pred.append(ppp.predict(str(dt).split()[0]))\n",
    "        actual_dt = get_next_monday(df, dt)\n",
    "        right_val = df[df.index == str(actual_dt).split()[0]]['PPSpotAvgPrice'].iloc[0]\n",
    "        actual.append(right_val)\n",
    "    print('MAPE for {}: {:.2f}%'.format(date, mean_absolute_percentage_error(pred, actual)))\n",
    "    "
   ]
  },
  {
   "cell_type": "code",
   "execution_count": 172,
   "metadata": {},
   "outputs": [
    {
     "name": "stdout",
     "output_type": "stream",
     "text": [
      "MAPE for 2013-12-31: 26.24%\n",
      "MAPE for 2014-01-31: 23.48%\n",
      "MAPE for 2014-02-28: 32.62%\n",
      "MAPE for 2014-03-31: 11.96%\n",
      "MAPE for 2014-04-30: 10.26%\n",
      "MAPE for 2014-05-31: 6.99%\n",
      "MAPE for 2014-06-30: 11.23%\n",
      "MAPE for 2014-07-31: 13.65%\n",
      "MAPE for 2014-08-31: 17.79%\n",
      "MAPE for 2014-09-30: 22.17%\n",
      "MAPE for 2014-10-31: 15.65%\n",
      "MAPE for 2014-11-30: 3.12%\n",
      "MAPE for 2014-12-31: 27.55%\n",
      "MAPE for 2015-01-31: 54.70%\n",
      "MAPE for 2015-02-28: 65.78%\n",
      "MAPE for 2015-03-31: 45.31%\n",
      "MAPE for 2015-04-30: 22.76%\n",
      "MAPE for 2015-05-31: 10.54%\n",
      "MAPE for 2015-06-30: 22.29%\n",
      "MAPE for 2015-07-31: 17.63%\n",
      "MAPE for 2015-08-31: 17.99%\n",
      "MAPE for 2015-09-30: 16.49%\n",
      "MAPE for 2015-10-31: 11.26%\n",
      "MAPE for 2015-11-30: 54.29%\n",
      "MAPE for 2015-12-31: 43.75%\n",
      "MAPE for 2016-01-31: 18.47%\n",
      "MAPE for 2016-02-29: 3.56%\n",
      "MAPE for 2016-03-31: 3.40%\n",
      "MAPE for 2016-04-30: 1.32%\n",
      "MAPE for 2016-05-31: 8.98%\n",
      "MAPE for 2016-06-30: 17.54%\n",
      "MAPE for 2016-07-31: 26.42%\n",
      "MAPE for 2016-08-31: 30.91%\n",
      "MAPE for 2016-09-30: 31.63%\n",
      "MAPE for 2016-10-31: 31.22%\n",
      "MAPE for 2016-11-30: 5.11%\n",
      "MAPE for 2016-12-31: 14.43%\n",
      "MAPE for 2017-01-31: 26.70%\n",
      "MAPE for 2017-02-28: 29.85%\n",
      "MAPE for 2017-03-31: 27.94%\n",
      "MAPE for 2017-04-30: 19.97%\n",
      "MAPE for 2017-05-31: 9.95%\n",
      "MAPE for 2017-06-30: 8.70%\n",
      "MAPE for 2017-07-31: 3.32%\n",
      "MAPE for 2017-08-31: 13.60%\n",
      "MAPE for 2017-09-30: 23.91%\n",
      "MAPE for 2017-10-31: 20.98%\n",
      "MAPE for 2017-11-30: 12.69%\n",
      "MAPE for 2017-12-31: 3.08%\n",
      "MAPE for 2018-01-31: 1.28%\n",
      "MAPE for 2018-02-28: 1.26%\n",
      "MAPE for 2018-03-31: 3.85%\n",
      "MAPE for 2018-04-30: 1.64%\n",
      "MAPE for 2018-05-31: 2.17%\n",
      "MAPE for 2018-06-30: 9.78%\n"
     ]
    }
   ],
   "source": [
    "for dt in pd.date_range(start=pd.to_datetime('2013-12-01'), \n",
    "                        end=pd.to_datetime('2018-07-01'), freq='M'):\n",
    "    test_sol(str(dt).split()[0])"
   ]
  },
  {
   "cell_type": "code",
   "execution_count": null,
   "metadata": {},
   "outputs": [],
   "source": []
  }
 ],
 "metadata": {
  "kernelspec": {
   "display_name": "venv",
   "language": "python",
   "name": "venv"
  },
  "language_info": {
   "codemirror_mode": {
    "name": "ipython",
    "version": 3
   },
   "file_extension": ".py",
   "mimetype": "text/x-python",
   "name": "python",
   "nbconvert_exporter": "python",
   "pygments_lexer": "ipython3",
   "version": "3.6.6"
  }
 },
 "nbformat": 4,
 "nbformat_minor": 2
}
